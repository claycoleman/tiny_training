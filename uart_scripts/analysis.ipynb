{
 "cells": [
  {
   "cell_type": "code",
   "execution_count": 37,
   "metadata": {},
   "outputs": [],
   "source": [
    "import os\n",
    "import json\n",
    "import numpy as np\n",
    "import pandas as pd\n",
    "import matplotlib.pyplot as plt\n",
    "import seaborn as sns"
   ]
  },
  {
   "cell_type": "code",
   "execution_count": 38,
   "metadata": {},
   "outputs": [],
   "source": [
    "# Load metrics files\n",
    "metrics_path = \"metrics\"\n",
    "training_metrics = [json.load(open(os.path.join(metrics_path, f))) \n",
    "                   for f in sorted(os.listdir(metrics_path)) \n",
    "                   if f.startswith(\"train_\") and f.endswith(\".json\")]\n",
    "validation_metrics = [json.load(open(os.path.join(metrics_path, f))) \n",
    "                     for f in sorted(os.listdir(metrics_path))\n",
    "                     if f.startswith(\"val_\") and f.endswith(\".json\")]\n",
    "\n",
    "# Process training metrics\n",
    "training_df = pd.DataFrame([\n",
    "    {\n",
    "        'step': m['step'],\n",
    "        'epoch': m['epoch'],\n",
    "        'accuracy': m['true_positives'] / m['total'] if m['total'] > 0 else 0,\n",
    "        'type': 'training',\n",
    "        **{f'class_{k}_acc': m[str(k)]['true_positives']/m[str(k)]['total'] \n",
    "           if m[str(k)]['total'] > 0 else 0 \n",
    "           for k in range(2)}  # Assuming 2 classes, adjust if different\n",
    "    }\n",
    "    for m in training_metrics\n",
    "])\n",
    "\n",
    "# Process validation metrics\n",
    "validation_df = pd.DataFrame([\n",
    "    {\n",
    "        'step': m['step'],\n",
    "        'epoch': m['epoch'],\n",
    "        'accuracy': m['true_positives'] / m['total'] if m['total'] > 0 else 0,\n",
    "        'type': 'validation',\n",
    "        **{f'class_{k}_acc': m[str(k)]['true_positives']/m[str(k)]['total'] \n",
    "           if m[str(k)]['total'] > 0 else 0 \n",
    "           for k in range(2)}  # Assuming 2 classes, adjust if different\n",
    "    }\n",
    "    for m in validation_metrics\n",
    "])"
   ]
  },
  {
   "cell_type": "code",
   "execution_count": null,
   "metadata": {},
   "outputs": [],
   "source": [
    "training_df.head()"
   ]
  },
  {
   "cell_type": "code",
   "execution_count": 40,
   "metadata": {},
   "outputs": [],
   "source": [
    "class_cols = [col for col in training_df.columns if col.startswith('class_')]"
   ]
  },
  {
   "cell_type": "code",
   "execution_count": null,
   "metadata": {},
   "outputs": [],
   "source": [
    "# Plot overall accuracy\n",
    "fig, (ax1, ax2) = plt.subplots(1, 2, figsize=(20, 6))\n",
    "\n",
    "# Training accuracy barplot\n",
    "sns.barplot(data=training_df, x='step', y='accuracy', ax=ax1, color='steelblue')\n",
    "ax1.set_title('Training Overall Accuracy', fontsize=26)\n",
    "ax1.set_xlabel('Training Steps', fontsize=20)\n",
    "ax1.set_ylabel('Accuracy', fontsize=20)\n",
    "ax1.grid(True)\n",
    "\n",
    "# Validation accuracy barplot\n",
    "sns.barplot(data=validation_df, x='epoch', y='accuracy', ax=ax2, color='darkred')\n",
    "ax2.set_title('Validation Overall Accuracy', fontsize=26)\n",
    "ax2.set_xlabel('Epoch', fontsize=20)\n",
    "ax2.set_ylabel('Accuracy', fontsize=20)\n",
    "ax2.grid(True)\n",
    "\n",
    "plt.tight_layout()\n",
    "plt.show()\n",
    "\n",
    "# Plot per-class accuracy\n",
    "fig, (ax1, ax2) = plt.subplots(1, 2, figsize=(20, 8))\n",
    "\n",
    "# Reshape data for better plotting\n",
    "train_melted = pd.melt(training_df, \n",
    "                      id_vars=['step'], \n",
    "                      value_vars=class_cols, \n",
    "                      var_name='class',\n",
    "                      value_name='class_accuracy')\n",
    "\n",
    "val_melted = pd.melt(validation_df, \n",
    "                     id_vars=['epoch'], \n",
    "                     value_vars=class_cols, \n",
    "                     var_name='class',\n",
    "                     value_name='class_accuracy')\n",
    "\n",
    "color_palette = sns.color_palette(\"deep\", len(class_cols))\n",
    "\n",
    "# Training per-class plot\n",
    "sns.lineplot(data=train_melted, x='step', y='class_accuracy', \n",
    "            hue='class', lw=3,\n",
    "            markers=True, dashes=False, ax=ax1, palette=color_palette)\n",
    "ax1.set_title('Training Per-class Accuracy', fontsize=26)\n",
    "ax1.set_xlabel('Training Steps', fontsize=20)\n",
    "ax1.set_ylabel('Accuracy', fontsize=20)\n",
    "ax1.grid(True)\n",
    "ax1.legend(title='Class', bbox_to_anchor=(1.05, 1))\n",
    "\n",
    "# Validation per-class plot\n",
    "sns.lineplot(data=val_melted, x='epoch', y='class_accuracy', \n",
    "                hue='class', lw=3,\n",
    "                markers=True, ax=ax2, palette=color_palette)\n",
    "ax2.set_title('Validation Per-class Accuracy', fontsize=26)\n",
    "ax2.set_xlabel('Epoch', fontsize=20)\n",
    "ax2.set_ylabel('Accuracy', fontsize=20)\n",
    "ax2.grid(True)\n",
    "ax2.legend(title='Class', bbox_to_anchor=(1.05, 1))\n",
    "\n",
    "plt.tight_layout()\n",
    "plt.show()"
   ]
  },
  {
   "cell_type": "code",
   "execution_count": null,
   "metadata": {},
   "outputs": [],
   "source": []
  }
 ],
 "metadata": {
  "kernelspec": {
   "display_name": "base",
   "language": "python",
   "name": "python3"
  },
  "language_info": {
   "codemirror_mode": {
    "name": "ipython",
    "version": 3
   },
   "file_extension": ".py",
   "mimetype": "text/x-python",
   "name": "python",
   "nbconvert_exporter": "python",
   "pygments_lexer": "ipython3",
   "version": "3.9.18"
  }
 },
 "nbformat": 4,
 "nbformat_minor": 2
}
